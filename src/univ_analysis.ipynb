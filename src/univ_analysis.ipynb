{
 "cells": [
  {
   "cell_type": "code",
   "execution_count": 389,
   "metadata": {},
   "outputs": [],
   "source": [
    "import itertools\n",
    "import os\n",
    "\n",
    "from haversine import haversine\n",
    "import numpy as np\n",
    "import matplotlib.pyplot as plt\n",
    "import pandas as pd"
   ]
  },
  {
   "cell_type": "code",
   "execution_count": 390,
   "metadata": {},
   "outputs": [
    {
     "name": "stdout",
     "output_type": "stream",
     "text": [
      "     대학명        y좌표         x좌표\n",
      "0  서울대학교  37.467086  126.949217\n",
      "1  연세대학교  37.560015  126.936894\n",
      "2  고려대학교  37.588073  127.034381\n",
      "3  서강대학교  37.551601  126.937668\n",
      "4  한양대학교  37.557541  127.042077\n",
      "(43, 3)\n",
      "        대학명  근처역    학생수        y좌표         x좌표\n",
      "0  가톨릭대학교성의    2    968  37.502571  127.005136\n",
      "1  가톨릭대학교성신    2    306  37.586844  127.002781\n",
      "2  감리교신학대학교    1    925  37.567858  126.963019\n",
      "3     건국대학교    1  22485  37.541910  127.071699\n",
      "4     경기대학교    1  16071  37.564636  126.962547\n",
      "(43, 5)\n"
     ]
    }
   ],
   "source": [
    "df_univ_loc = pd.read_csv(\"./data/서울주요대학위도경도.csv\")\n",
    "print(df_univ_loc.head())\n",
    "print(df_univ_loc.shape)\n",
    "\n",
    "df_univ_near = pd.read_csv(\"./data/인서울대학_근처역대학자료.csv\")\n",
    "df_univ_near.drop(\"etc\", axis='columns', inplace=True)\n",
    "print(df_univ_near.head())\n",
    "print(df_univ_near.shape)"
   ]
  },
  {
   "cell_type": "code",
   "execution_count": 391,
   "metadata": {},
   "outputs": [
    {
     "name": "stdout",
     "output_type": "stream",
     "text": [
      "     상가업소번호         상호명  지점명 상권업종대분류코드 상권업종대분류명 상권업종중분류코드   상권업종중분류명  \\\n",
      "0  23324279       제중건강원  NaN         D       소매       D10    건강/미용식품   \n",
      "1  24525909       민속악기사  NaN         D       소매       D04  취미/오락관련소매   \n",
      "2  24715368       태평양진주  NaN         D       소매       D26   시계/귀금속소매   \n",
      "3  15554136  김선희꼼꼼국어교습소  NaN         R    학문/교육       R01  학원-보습교습입시   \n",
      "4  17174175         비지트  NaN         Q       음식       Q01         한식   \n",
      "\n",
      "  상권업종소분류코드   상권업종소분류명 표준산업분류코드  ...                     건물관리번호     건물명  \\\n",
      "0    D10A07        건강원   G47216  ...  1156010600100410002034626     NaN   \n",
      "1    D04A09       악기판매   G47593  ...  1120012200101420011000227     NaN   \n",
      "2    D26A01     시계/귀금속   G47830  ...  1111015200100440000000001  금사랑투빌딩   \n",
      "3    R01A01      학원-입시   P85501  ...  1171011100101970003017195     NaN   \n",
      "4    Q01A01  한식/백반/한정식   I56111  ...  1165010100108540018009586   상랑의빌딩   \n",
      "\n",
      "                               도로명주소   구우편번호 신우편번호  동정보  층정보  호정보         x좌표  \\\n",
      "0  서울특별시 영등포구 영중로14길 11-17, (영등포동5가)  150030  7250  NaN    1  NaN  126.907168   \n",
      "1            서울특별시 성동구 용답5길 2, (용답동)  133849  4803  NaN  NaN  NaN  127.049018   \n",
      "2        서울특별시 종로구 서순라길 17-10, (봉익동)  110390  3138  NaN  NaN  NaN  126.993530   \n",
      "3       서울특별시 송파구 위례성대로12길 31, (방이동)  138834  5640  NaN    2  NaN  127.121520   \n",
      "4         서울특별시 서초구 동광로18길 82, (방배동)  137837  6572  NaN    1  NaN  126.991394   \n",
      "\n",
      "         y좌표  \n",
      "0  37.520613  \n",
      "1  37.566857  \n",
      "2  37.571848  \n",
      "3  37.510967  \n",
      "4  37.488375  \n",
      "\n",
      "[5 rows x 39 columns]\n",
      "상가업소번호 | 상호명 | 지점명 | 상권업종대분류코드 | 상권업종대분류명 | 상권업종중분류코드 | 상권업종중분류명 | 상권업종소분류코드 | 상권업종소분류명 | 표준산업분류코드 | 표준산업분류명 | 시도코드 | 시도명 | 시군구코드 | 시군구명 | 행정동코드 | 행정동명 | 법정동코드 | 법정동명 | 지번코드 | 대지구분코드 | 대지구분명 | 지번본번지 | 지번부번지 | 지번주소 | 도로명코드 | 도로명 | 건물본번지 | 건물부번지 | 건물관리번호 | 건물명 | 도로명주소 | 구우편번호 | 신우편번호 | 동정보 | 층정보 | 호정보 | x좌표 | y좌표\n"
     ]
    }
   ],
   "source": [
    "df_shop_in_seoul = pd.read_csv(\"./data/소상공인시장진흥공단_상가(상권)정보_서울_202209.csv\")\n",
    "df_shop_in_seoul.rename(columns={\"위도\": \"y좌표\", \"경도\": \"x좌표\"}, inplace=True)\n",
    "\n",
    "print(df_shop_in_seoul.head())\n",
    "print(' | '.join(df_shop_in_seoul.columns))"
   ]
  },
  {
   "cell_type": "code",
   "execution_count": 392,
   "metadata": {},
   "outputs": [
    {
     "name": "stdout",
     "output_type": "stream",
     "text": [
      "     대학명        y좌표         x좌표\n",
      "0  서울대학교  37.467086  126.949217\n",
      "1  연세대학교  37.560015  126.936894\n",
      "2  고려대학교  37.588073  127.034381\n",
      "3  서강대학교  37.551601  126.937668\n",
      "4  한양대학교  37.557541  127.042077\n",
      "(43, 3)\n",
      "\n",
      "대학명 | y좌표 | x좌표\n"
     ]
    }
   ],
   "source": [
    "df_univ_in_seoul = df_univ_loc\n",
    "\n",
    "print(df_univ_in_seoul.head())\n",
    "print(df_univ_in_seoul.shape)\n",
    "print()\n",
    "print(' | '.join(df_univ_in_seoul.columns))"
   ]
  },
  {
   "cell_type": "code",
   "execution_count": 393,
   "metadata": {},
   "outputs": [
    {
     "name": "stdout",
     "output_type": "stream",
     "text": [
      "     대학명        y좌표         x좌표  IS_UNIV_NEAR\n",
      "0  서울대학교  37.467086  126.949217             0\n",
      "1  연세대학교  37.560015  126.936894             2\n",
      "2  고려대학교  37.588073  127.034381             0\n",
      "3  서강대학교  37.551601  126.937668             3\n",
      "4  한양대학교  37.557541  127.042077             0\n"
     ]
    }
   ],
   "source": [
    "df_univ_in_seoul[\"IS_UNIV_NEAR\"] = 0\n",
    "\n",
    "for sch1, sch2 in itertools.combinations(df_univ_in_seoul.index, 2):\n",
    "    sch1_yx = (\n",
    "        df_univ_in_seoul.at[sch1, \"y좌표\"],\n",
    "        df_univ_in_seoul.at[sch1, \"x좌표\"],\n",
    "    )\n",
    "    sch2_yx = (\n",
    "        df_univ_in_seoul.at[sch2, \"y좌표\"],\n",
    "        df_univ_in_seoul.at[sch2, \"x좌표\"],\n",
    "    )\n",
    "\n",
    "    if haversine(sch1_yx, sch2_yx, unit='m') <= 1200:\n",
    "\n",
    "        df_univ_in_seoul.at[sch1, 'IS_UNIV_NEAR'] += 1\n",
    "        df_univ_in_seoul.at[sch2, 'IS_UNIV_NEAR'] += 1\n",
    "\n",
    "print(df_univ_in_seoul.head())\n",
    "\n"
   ]
  },
  {
   "cell_type": "code",
   "execution_count": 394,
   "metadata": {},
   "outputs": [
    {
     "name": "stdout",
     "output_type": "stream",
     "text": [
      "             y좌표         x좌표  근처대학수  근처역    학생수\n",
      "대학명                                            \n",
      "서울대학교  37.467086  126.949217      0    1  21286\n",
      "연세대학교  37.560015  126.936894      2    3  17412\n",
      "고려대학교  37.588073  127.034381      0    2  26766\n",
      "서강대학교  37.551601  126.937668      3    3  11679\n",
      "한양대학교  37.557541  127.042077      0    2  22284\n",
      "(43, 5)\n"
     ]
    }
   ],
   "source": [
    "df_univ_in_seoul.set_index(keys=\"대학명\", inplace=True)\n",
    "df_univ_near.set_index(keys=\"대학명\", inplace=True)\n",
    "df_univ_near.drop([\"y좌표\", \"x좌표\"], axis='columns', inplace=True)\n",
    "\n",
    "df_merged = pd.concat([df_univ_in_seoul,df_univ_near], axis='columns', join=\"inner\")\n",
    "df_merged.rename(columns={\"IS_UNIV_NEAR\": \"근처대학수\"}, inplace=True)\n",
    "\n",
    "print(df_merged.head())\n",
    "print(df_merged.shape)"
   ]
  },
  {
   "cell_type": "code",
   "execution_count": 398,
   "metadata": {},
   "outputs": [
    {
     "name": "stdout",
     "output_type": "stream",
     "text": [
      "             y좌표         x좌표  근처대학수  근처역    학생수  음식점수  카페수  주점수\n",
      "대학명                                                            \n",
      "서울대학교  37.467086  126.949217      0    1  21286  1329  205  218\n",
      "연세대학교  37.560015  126.936894      2    3  17412  3452  482  599\n",
      "고려대학교  37.588073  127.034381      0    2  26766  3386  664  585\n",
      "서강대학교  37.551601  126.937668      3    3  11679  3616  554  645\n",
      "한양대학교  37.557541  127.042077      0    2  22284  2498  444  467\n"
     ]
    }
   ],
   "source": [
    "df_univ_near_rest = pd.read_csv(\"./대학별1500m가게목록.csv\")\n",
    "df_univ_near_rest.set_index(\"대학명\", inplace=True)\n",
    "\n",
    "df_merged[\"음식점수\"] = 0\n",
    "df_merged[\"카페수\"] = 0\n",
    "df_merged[\"주점수\"] = 0\n",
    "\n",
    "# print(df_univ_near_rest.head())\n",
    "\n",
    "rest_code = [f\"CS10000{i}\" for i in range(1, 9)]\n",
    "\n",
    "for univ_name in df_merged.index:\n",
    "    each_df = df_univ_near_rest[df_univ_near_rest.index == univ_name]\n",
    "    df_merged.at[univ_name, \"음식점수\"] = each_df[each_df[\"서비스_업종_코드\"].isin(rest_code)].shape[0],\n",
    "    df_merged.at[univ_name, \"카페수\"] = each_df[each_df[\"서비스_업종_코드\"] == \"CS100009\"].shape[0],\n",
    "    df_merged.at[univ_name, \"주점수\"] = each_df[each_df[\"서비스_업종_코드\"] == \"CS100010\"].shape[0],\n",
    "\n",
    "print(df_merged.head())\n",
    "\n",
    "df_merged.to_csv(\"./result/univ_near_consolidated.csv\")"
   ]
  },
  {
   "cell_type": "code",
   "execution_count": 404,
   "metadata": {},
   "outputs": [
    {
     "data": {
      "text/html": [
       "<table class=\"simpletable\">\n",
       "<caption>OLS Regression Results</caption>\n",
       "<tr>\n",
       "  <th>Dep. Variable:</th>           <td>주점수</td>       <th>  R-squared:         </th> <td>   0.975</td>\n",
       "</tr>\n",
       "<tr>\n",
       "  <th>Model:</th>                   <td>OLS</td>       <th>  Adj. R-squared:    </th> <td>   0.973</td>\n",
       "</tr>\n",
       "<tr>\n",
       "  <th>Method:</th>             <td>Least Squares</td>  <th>  F-statistic:       </th> <td>   764.6</td>\n",
       "</tr>\n",
       "<tr>\n",
       "  <th>Date:</th>             <td>Fri, 21 Jul 2023</td> <th>  Prob (F-statistic):</th> <td>1.34e-32</td>\n",
       "</tr>\n",
       "<tr>\n",
       "  <th>Time:</th>                 <td>23:18:05</td>     <th>  Log-Likelihood:    </th> <td> -205.30</td>\n",
       "</tr>\n",
       "<tr>\n",
       "  <th>No. Observations:</th>      <td>    43</td>      <th>  AIC:               </th> <td>   416.6</td>\n",
       "</tr>\n",
       "<tr>\n",
       "  <th>Df Residuals:</th>          <td>    40</td>      <th>  BIC:               </th> <td>   421.9</td>\n",
       "</tr>\n",
       "<tr>\n",
       "  <th>Df Model:</th>              <td>     2</td>      <th>                     </th>     <td> </td>   \n",
       "</tr>\n",
       "<tr>\n",
       "  <th>Covariance Type:</th>      <td>nonrobust</td>    <th>                     </th>     <td> </td>   \n",
       "</tr>\n",
       "</table>\n",
       "<table class=\"simpletable\">\n",
       "<tr>\n",
       "    <td></td>       <th>coef</th>     <th>std err</th>      <th>t</th>      <th>P>|t|</th>  <th>[0.025</th>    <th>0.975]</th>  \n",
       "</tr>\n",
       "<tr>\n",
       "  <th>const</th> <td>   -5.3655</td> <td>   11.600</td> <td>   -0.463</td> <td> 0.646</td> <td>  -28.811</td> <td>   18.080</td>\n",
       "</tr>\n",
       "<tr>\n",
       "  <th>카페수</th>   <td>   -0.0792</td> <td>    0.087</td> <td>   -0.912</td> <td> 0.367</td> <td>   -0.255</td> <td>    0.096</td>\n",
       "</tr>\n",
       "<tr>\n",
       "  <th>음식점수</th>  <td>    0.1944</td> <td>    0.016</td> <td>   12.482</td> <td> 0.000</td> <td>    0.163</td> <td>    0.226</td>\n",
       "</tr>\n",
       "</table>\n",
       "<table class=\"simpletable\">\n",
       "<tr>\n",
       "  <th>Omnibus:</th>       <td> 0.321</td> <th>  Durbin-Watson:     </th> <td>   1.873</td>\n",
       "</tr>\n",
       "<tr>\n",
       "  <th>Prob(Omnibus):</th> <td> 0.852</td> <th>  Jarque-Bera (JB):  </th> <td>   0.499</td>\n",
       "</tr>\n",
       "<tr>\n",
       "  <th>Skew:</th>          <td>-0.054</td> <th>  Prob(JB):          </th> <td>   0.779</td>\n",
       "</tr>\n",
       "<tr>\n",
       "  <th>Kurtosis:</th>      <td> 2.483</td> <th>  Cond. No.          </th> <td>6.48e+03</td>\n",
       "</tr>\n",
       "</table><br/><br/>Notes:<br/>[1] Standard Errors assume that the covariance matrix of the errors is correctly specified.<br/>[2] The condition number is large, 6.48e+03. This might indicate that there are<br/>strong multicollinearity or other numerical problems."
      ],
      "text/latex": [
       "\\begin{center}\n",
       "\\begin{tabular}{lclc}\n",
       "\\toprule\n",
       "\\textbf{Dep. Variable:}    &       주점수        & \\textbf{  R-squared:         } &     0.975   \\\\\n",
       "\\textbf{Model:}            &       OLS        & \\textbf{  Adj. R-squared:    } &     0.973   \\\\\n",
       "\\textbf{Method:}           &  Least Squares   & \\textbf{  F-statistic:       } &     764.6   \\\\\n",
       "\\textbf{Date:}             & Fri, 21 Jul 2023 & \\textbf{  Prob (F-statistic):} &  1.34e-32   \\\\\n",
       "\\textbf{Time:}             &     23:18:05     & \\textbf{  Log-Likelihood:    } &   -205.30   \\\\\n",
       "\\textbf{No. Observations:} &          43      & \\textbf{  AIC:               } &     416.6   \\\\\n",
       "\\textbf{Df Residuals:}     &          40      & \\textbf{  BIC:               } &     421.9   \\\\\n",
       "\\textbf{Df Model:}         &           2      & \\textbf{                     } &             \\\\\n",
       "\\textbf{Covariance Type:}  &    nonrobust     & \\textbf{                     } &             \\\\\n",
       "\\bottomrule\n",
       "\\end{tabular}\n",
       "\\begin{tabular}{lcccccc}\n",
       "               & \\textbf{coef} & \\textbf{std err} & \\textbf{t} & \\textbf{P$> |$t$|$} & \\textbf{[0.025} & \\textbf{0.975]}  \\\\\n",
       "\\midrule\n",
       "\\textbf{const} &      -5.3655  &       11.600     &    -0.463  &         0.646        &      -28.811    &       18.080     \\\\\n",
       "\\textbf{카페수}   &      -0.0792  &        0.087     &    -0.912  &         0.367        &       -0.255    &        0.096     \\\\\n",
       "\\textbf{음식점수}  &       0.1944  &        0.016     &    12.482  &         0.000        &        0.163    &        0.226     \\\\\n",
       "\\bottomrule\n",
       "\\end{tabular}\n",
       "\\begin{tabular}{lclc}\n",
       "\\textbf{Omnibus:}       &  0.321 & \\textbf{  Durbin-Watson:     } &    1.873  \\\\\n",
       "\\textbf{Prob(Omnibus):} &  0.852 & \\textbf{  Jarque-Bera (JB):  } &    0.499  \\\\\n",
       "\\textbf{Skew:}          & -0.054 & \\textbf{  Prob(JB):          } &    0.779  \\\\\n",
       "\\textbf{Kurtosis:}      &  2.483 & \\textbf{  Cond. No.          } & 6.48e+03  \\\\\n",
       "\\bottomrule\n",
       "\\end{tabular}\n",
       "%\\caption{OLS Regression Results}\n",
       "\\end{center}\n",
       "\n",
       "Notes: \\newline\n",
       " [1] Standard Errors assume that the covariance matrix of the errors is correctly specified. \\newline\n",
       " [2] The condition number is large, 6.48e+03. This might indicate that there are \\newline\n",
       " strong multicollinearity or other numerical problems."
      ],
      "text/plain": [
       "<class 'statsmodels.iolib.summary.Summary'>\n",
       "\"\"\"\n",
       "                            OLS Regression Results                            \n",
       "==============================================================================\n",
       "Dep. Variable:                    주점수   R-squared:                       0.975\n",
       "Model:                            OLS   Adj. R-squared:                  0.973\n",
       "Method:                 Least Squares   F-statistic:                     764.6\n",
       "Date:                Fri, 21 Jul 2023   Prob (F-statistic):           1.34e-32\n",
       "Time:                        23:18:05   Log-Likelihood:                -205.30\n",
       "No. Observations:                  43   AIC:                             416.6\n",
       "Df Residuals:                      40   BIC:                             421.9\n",
       "Df Model:                           2                                         \n",
       "Covariance Type:            nonrobust                                         \n",
       "==============================================================================\n",
       "                 coef    std err          t      P>|t|      [0.025      0.975]\n",
       "------------------------------------------------------------------------------\n",
       "const         -5.3655     11.600     -0.463      0.646     -28.811      18.080\n",
       "카페수           -0.0792      0.087     -0.912      0.367      -0.255       0.096\n",
       "음식점수           0.1944      0.016     12.482      0.000       0.163       0.226\n",
       "==============================================================================\n",
       "Omnibus:                        0.321   Durbin-Watson:                   1.873\n",
       "Prob(Omnibus):                  0.852   Jarque-Bera (JB):                0.499\n",
       "Skew:                          -0.054   Prob(JB):                        0.779\n",
       "Kurtosis:                       2.483   Cond. No.                     6.48e+03\n",
       "==============================================================================\n",
       "\n",
       "Notes:\n",
       "[1] Standard Errors assume that the covariance matrix of the errors is correctly specified.\n",
       "[2] The condition number is large, 6.48e+03. This might indicate that there are\n",
       "strong multicollinearity or other numerical problems.\n",
       "\"\"\""
      ]
     },
     "execution_count": 404,
     "metadata": {},
     "output_type": "execute_result"
    }
   ],
   "source": [
    "import statsmodels.api as sm\n",
    "\n",
    "df_merged2 = df_merged.copy()\n",
    "df_merged2[\"근처역존재\"] = df_merged2[\"근처역\"].apply(lambda x: 1 if x>0 else 0)\n",
    "x_data = df_merged2[[\"카페수\", \"음식점수\"]] #변수 여러개\n",
    "# x_data = df_merged2[[\"근처역\",\"학생수\",\"근처대학수\"]] #변수 여러개\n",
    "target = df_merged2[[\"주점수\"]]\n",
    "\n",
    "# print(df_merged.dtypes)\n",
    "\n",
    "# # for b0, 상수항 추가\n",
    "x_data1 = sm.add_constant(x_data, has_constant = \"add\")\n",
    "\n",
    "# # OLS 검정\n",
    "multi_model = sm.OLS(target, x_data1)\n",
    "fitted_multi_model = multi_model.fit()\n",
    "fitted_multi_model.summary()"
   ]
  }
 ],
 "metadata": {
  "kernelspec": {
   "display_name": "pypj",
   "language": "python",
   "name": "python3"
  },
  "language_info": {
   "codemirror_mode": {
    "name": "ipython",
    "version": 3
   },
   "file_extension": ".py",
   "mimetype": "text/x-python",
   "name": "python",
   "nbconvert_exporter": "python",
   "pygments_lexer": "ipython3",
   "version": "3.11.0"
  },
  "orig_nbformat": 4
 },
 "nbformat": 4,
 "nbformat_minor": 2
}
